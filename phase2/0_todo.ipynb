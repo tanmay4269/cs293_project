{
 "cells": [
  {
   "cell_type": "markdown",
   "metadata": {},
   "source": [
    "# Making market\n",
    "1. Read inputs\n",
    "2. Avoid arbitrage \n",
    "3. Priority basis matching\n",
    "   - price \n",
    "   - time \n",
    "   - alphabetical\n",
    "\n",
    "> My strategy\n",
    "1. "
   ]
  }
 ],
 "metadata": {
  "language_info": {
   "name": "python"
  }
 },
 "nbformat": 4,
 "nbformat_minor": 2
}
