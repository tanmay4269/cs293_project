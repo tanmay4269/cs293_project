{
 "cells": [
  {
   "cell_type": "markdown",
   "metadata": {},
   "source": [
    "# goal: complete phase 2 part 1\n",
    "- [ ] store exchanges\n",
    "\n",
    "\n",
    "-------------------------------------------------\n",
    "-------------- DONT DELETE ME -------------------\n",
    "-------------------------------------------------\n",
    "* [ ] handel inappropriate inputs \n",
    "- [ ] future improvement = making a custom map and writing buffers into that, order matching complexity goes from smtg like O(n^2) to O(n)"
   ]
  }
 ],
 "metadata": {
  "language_info": {
   "name": "python"
  }
 },
 "nbformat": 4,
 "nbformat_minor": 2
}
