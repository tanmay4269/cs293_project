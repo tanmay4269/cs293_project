{
 "cells": [
  {
   "cell_type": "markdown",
   "metadata": {},
   "source": [
    "integer list array A(n);  /* A(n) is the array of list wich is adjacency list representation*/\n",
    "logical array marked(n);\n",
    "integer stack current_stack;\n",
    "integer stack marked_stack;\n",
    "\n",
    "integer procedure intialize(); /*initialize the values*/\n",
    "    begin;\n",
    "    for i in n do \n",
    "         marked(i):=false\n",
    "\n",
    "integer procedure print_cycles();\n",
    "    begin\n",
    "        for i in current_stack do\n",
    "            print i ;       \n",
    "\n",
    "logical procedure backtrack(k) do\n",
    "    begin\n",
    "        logical flag=false;\n",
    "        current_stack->push(k);\n",
    "        marked_stack->push(k);\n",
    "        marked(n):=true;\n",
    "        for i in A(k) do\n",
    "            if i < s; /*To find only disticnt cycles in topological manner*/\n",
    "               delete A(i);\n",
    "            if i==s; /*Cycle found*/\n",
    "                print_cycles()\n",
    "            if marked(i):= false;\n",
    "                backtrack(n); /*continue dfs*/\n",
    "        if flag :=true;\n",
    "            for i in marked_stack do /*unmark the elements that have been visited in any of the cycles starting from s*/\n",
    "                marked(i):=false;\n",
    "        current_stack->pop(k);\n",
    "        backtrack:=flag\n",
    "    end   backtrack(k)\n",
    "\n",
    "begin \n",
    "    integer procedure backtrack_Util();\n",
    "        begin\n",
    "            for s in n do\n",
    "               backtrack(s);\n",
    "               while marked_stack(s)->empty do\n",
    "                    for i in marked_stack do\n",
    "                        marked(i):=false\n",
    "     end backtrack_Util()"
   ]
  },
  {
   "cell_type": "markdown",
   "metadata": {},
   "source": [
    "- [ ] understand the algo\n",
    "- [ ] convert pseudocode into that for our case\n",
    "- [ ] write in cpp"
   ]
  }
 ],
 "metadata": {
  "language_info": {
   "name": "python"
  }
 },
 "nbformat": 4,
 "nbformat_minor": 2
}
